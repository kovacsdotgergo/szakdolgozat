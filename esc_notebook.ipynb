{
 "cells": [
  {
   "cell_type": "code",
   "execution_count": null,
   "metadata": {},
   "outputs": [],
   "source": [
    "!git clone https://github.com/kovacsdotgergo/szakdolgozat.git\n",
    "%cd szakdolgozat\n",
    "!pip install -r requirements.txt"
   ]
  },
  {
   "cell_type": "code",
   "execution_count": 1,
   "metadata": {},
   "outputs": [
    {
     "name": "stdout",
     "output_type": "stream",
     "text": [
      "Running in local\n"
     ]
    }
   ],
   "source": [
    "import utils\n",
    "esc_path = utils.setup_env()"
   ]
  },
  {
   "cell_type": "code",
   "execution_count": 2,
   "metadata": {},
   "outputs": [
    {
     "name": "stdout",
     "output_type": "stream",
     "text": [
      "---------------AST Model Summary---------------\n",
      "ImageNet pretraining: True, AudioSet pretraining: True\n",
      "frequncey stride=10, time stride=10\n",
      "number of patches=600\n",
      "elotte\n"
     ]
    },
    {
     "ename": "",
     "evalue": "",
     "output_type": "error",
     "traceback": [
      "\u001b[1;31mCanceled future for execute_request message before replies were done"
     ]
    },
    {
     "ename": "",
     "evalue": "",
     "output_type": "error",
     "traceback": [
      "\u001b[1;31mThe Kernel crashed while executing code in the the current cell or a previous cell. Please review the code in the cell(s) to identify a possible cause of the failure. Click <a href='https://aka.ms/vscodeJupyterKernelCrash'>here</a> for more info. View Jupyter <a href='command:jupyter.viewOutput'>log</a> for further details."
     ]
    }
   ],
   "source": [
    "from src.models import ASTModel\n",
    "import torch\n",
    "import esc_dataset\n",
    "\n",
    "have_cuda = torch.cuda.is_available()\n",
    "\n",
    "input_tdim = 512\n",
    "audio_model = ASTModel(label_dim=50, input_tdim=input_tdim, imagenet_pretrain=True, audioset_pretrain=True)\n",
    "audio_model = torch.nn.DataParallel(audio_model, device_ids=[0])\n",
    "audio_model = audio_model.to(torch.device(\"cuda:0\" if have_cuda else 'cpu'))\n",
    "audio_model.eval()\n",
    "\n",
    "AST_NUM_MEL = 128\n",
    "AST_N_FFT = 1024\n",
    "AST_HOP_LEN = 256\n",
    "BATCHSIZE = 16\n",
    "#instantiating the dataset\n",
    "dataset = esc_dataset.ESCdataset(esc_path, n_fft=AST_N_FFT, hop_length=AST_HOP_LEN,\n",
    "                     n_mels=AST_NUM_MEL, augment=False,  log_mel=True,\n",
    "                     use_kaldi=True, target_len=input_tdim, resample_rate=22500)\n",
    "spect, label = dataset[5]\n",
    "spect = spect.unsqueeze(dim=0)\n",
    "print('elotte')\n",
    "with torch.no_grad():\n",
    "    with torch.cuda.amp.autocast():\n",
    "        out = audio_model.forward(spect)\n",
    "print('kész')\n",
    "pred = torch.argmax(out, dim=1)\n",
    "print(f'pred: {pred == label}')"
   ]
  }
 ],
 "metadata": {
  "kernelspec": {
   "display_name": "Python 3.10.6 ('venv': venv)",
   "language": "python",
   "name": "python3"
  },
  "language_info": {
   "codemirror_mode": {
    "name": "ipython",
    "version": 3
   },
   "file_extension": ".py",
   "mimetype": "text/x-python",
   "name": "python",
   "nbconvert_exporter": "python",
   "pygments_lexer": "ipython3",
   "version": "3.10.6"
  },
  "orig_nbformat": 4,
  "vscode": {
   "interpreter": {
    "hash": "1c5440d9220ddd61252669e50fcd27d4d057d7cf15fbe79bfa9bf1a741db3cc6"
   }
  }
 },
 "nbformat": 4,
 "nbformat_minor": 2
}
